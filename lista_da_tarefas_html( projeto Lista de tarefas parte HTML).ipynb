{
  "nbformat": 4,
  "nbformat_minor": 0,
  "metadata": {
    "colab": {
      "provenance": [],
      "authorship_tag": "ABX9TyPKn8Y9EpnV1TCjB/8LSS1n",
      "include_colab_link": true
    },
    "kernelspec": {
      "name": "python3",
      "display_name": "Python 3"
    },
    "language_info": {
      "name": "python"
    }
  },
  "cells": [
    {
      "cell_type": "markdown",
      "metadata": {
        "id": "view-in-github",
        "colab_type": "text"
      },
      "source": [
        "<a href=\"https://colab.research.google.com/github/Patrik0007/primeiros-projetos/blob/main/lista_da_tarefas_html(%20projeto%20Lista%20de%20tarefas%20parte%20HTML).ipynb\" target=\"_parent\"><img src=\"https://colab.research.google.com/assets/colab-badge.svg\" alt=\"Open In Colab\"/></a>"
      ]
    },
    {
      "cell_type": "code",
      "execution_count": null,
      "metadata": {
        "id": "OD21VUnIvpr4"
      },
      "outputs": [],
      "source": [
        "<!DOCTYPE html>\n",
        "<html>\n",
        "    <head>\n",
        "        <meta name=\"viewport\" content=\"width=device-width, initial-scale=1, shrink-to-fit=no\">\n",
        "        <meta charset=\"utf-8\">\n",
        "        <title>lista de tarefas</title>\n",
        "        <link rel=\"stylesheet\" href=\"https://stackpath.bootstrapcdn.com/bootstrap/4.1.3/css/bootstrap.min.css\">\n",
        "    </head>\n",
        "    <body>\n",
        "        <div class=\"container\">\n",
        "            <div class=\"card\">\n",
        "                <h1 class=\"card-header\">lista de tarefas</h1>\n",
        "                <div class=\"card-body\">\n",
        "                    <div class=\"input-group mb-3\">\n",
        "                        <input type=\"text\" class=\"form-control\" placeholder=\" digite a tarefa\" name=\"tarefa\" autofocus>\n",
        "                        <div class=\"input-group-append\">\n",
        "                            <button class=\"btn btn-primary\" type=\"button\" id=\"botao\">cadastrar</button>\n",
        "                        </div>\n",
        "                    </div>\n",
        "                    <ul id=\"lista\" class=\"list-group\">\n",
        "                    </ul>\n",
        "                </div>\n",
        "            </div>\n",
        "        </div>\n",
        "        <script src=\"script.js\"></script>\n",
        "    </body>\n",
        "</html>"
      ]
    }
  ]
}