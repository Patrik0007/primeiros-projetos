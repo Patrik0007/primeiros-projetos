{
  "nbformat": 4,
  "nbformat_minor": 0,
  "metadata": {
    "colab": {
      "provenance": [],
      "authorship_tag": "ABX9TyMRdGYITH193nS6pCIW1HXQ",
      "include_colab_link": true
    },
    "kernelspec": {
      "name": "python3",
      "display_name": "Python 3"
    },
    "language_info": {
      "name": "python"
    }
  },
  "cells": [
    {
      "cell_type": "markdown",
      "metadata": {
        "id": "view-in-github",
        "colab_type": "text"
      },
      "source": [
        "<a href=\"https://colab.research.google.com/github/Patrik0007/primeiros-projetos/blob/main/C%C3%B3pia_de_JavaScript(projeto).ipynb\" target=\"_parent\"><img src=\"https://colab.research.google.com/assets/colab-badge.svg\" alt=\"Open In Colab\"/></a>"
      ]
    },
    {
      "cell_type": "code",
      "execution_count": null,
      "metadata": {
        "colab": {
          "base_uri": "https://localhost:8080/",
          "height": 140
        },
        "id": "pNT47mFdwT7A",
        "outputId": "72e9fe52-18e8-4079-f120-d77b45440421"
      },
      "outputs": [
        {
          "output_type": "error",
          "ename": "IndentationError",
          "evalue": "ignored",
          "traceback": [
            "\u001b[0;36m  File \u001b[0;32m\"<tokenize>\"\u001b[0;36m, line \u001b[0;32m29\u001b[0m\n\u001b[0;31m    }\u001b[0m\n\u001b[0m    ^\u001b[0m\n\u001b[0;31mIndentationError\u001b[0m\u001b[0;31m:\u001b[0m unindent does not match any outer indentation level\n"
          ]
        }
      ],
      "source": [
        "// 1-) temos que referenciar o input\n",
        "let input = document.querySelector('input[name=tarefa]');\n",
        "\n",
        "// 2-) temos que referenciar o button\n",
        "let btn = document.querySelector('#botao');\n",
        "\n",
        "// 3-) temos que referenciar a lista\n",
        "let lista = document.querySelector('#lista');\n",
        "\n",
        "let card = document.querySelector('.card');\n",
        "\n",
        "let tarefas = JSON.parse(localStorage.getItem('tarefas')) || [];\n",
        "\n",
        "function renderizarTarefas(){\n",
        "\n",
        "    // limpar a listagem de itens antes de renderizar novamente a tela\n",
        "    lista.innerHTML = '';\n",
        "\n",
        "    for(tarefa of tarefas){\n",
        "        // criar o item da lista\n",
        "        let itemLista = document.createElement('li');\n",
        "\n",
        "        // adicionar classes no item da lista\n",
        "        itemLista.setAttribute('class', 'list-group-item list-group-item-action');\n",
        "\n",
        "        // adicionar evento de clique no item da lista\n",
        "        itemLista.onclick = function (){\n",
        "            deletarTarefa(this);\n",
        "        }\n",
        "\n",
        "        // criar um texto\n",
        "        let itemTexto = document.createTextNode(tarefa);\n",
        "\n",
        "        // adicionar o texto no item da lista\n",
        "        itemLista.appendChild(itemTexto);\n",
        "\n",
        "        // adicionar o item da lista na lista\n",
        "        lista.appendChild(itemLista);\n",
        "    }\n",
        "}\n",
        "\n",
        "// executando a função para renderizar as tarefas\n",
        "renderizarTarefas();\n",
        "\n",
        "// 1-) precisamos \"escutar\" o evento de clique no botão\n",
        "btn.onclick = function(){\n",
        "\n",
        "    // 2-) precisamos capturar o valor digitado pelo usuário no input\n",
        "    let novaTarefa = input.value;\n",
        "\n",
        "    if(novaTarefa !== \"\"){\n",
        "        // 3-) precisamos atualizar a nova tarefa na lista (array) de tarefas e renderizar a tela\n",
        "        tarefas.push(novaTarefa);\n",
        "\n",
        "        // executando a função para renderizar as tarefas\n",
        "        renderizarTarefas();\n",
        "\n",
        "        // limpar o input\n",
        "        input.value = '';\n",
        "\n",
        "        // limpar mensagens de erro (spans)\n",
        "        removeSpans();\n",
        "\n",
        "        // salvar os novas dados no banco de dados\n",
        "        salvarDadosNoStorage();\n",
        "    }else{\n",
        "        // limpar mensagens de erro (spans)\n",
        "        removeSpans();\n",
        "\n",
        "        let span = document.createElement('span');\n",
        "        span.setAttribute('class', 'alert alert-warning');\n",
        "\n",
        "        let msg = document.createTextNode('você precisa informar a tarefa!');\n",
        "\n",
        "        span.appendChild(msg);\n",
        "\n",
        "        card.appendChild(span);\n",
        "    }\n",
        "}\n",
        "\n",
        "function removeSpans(){\n",
        "    let spans = document.querySelectorAll('span');\n",
        "\n",
        "    for (let i = 0 ; i < spans.length; i++){\n",
        "        card.removeChild(spans[i]);\n",
        "    }\n",
        "}\n",
        "\n",
        "function deletarTarefa(tar){\n",
        "\n",
        "    // remove a tarefa do array\n",
        "    tarefas.splice(tarefas.indexOf(tar.textContent), 1);\n",
        "\n",
        "    // renderizar novamente a tela\n",
        "    renderizarTarefas();\n",
        "\n",
        "    // salvar os novas dados no banco de dados\n",
        "    salvarDadosNoStorage();\n",
        "}\n",
        "\n",
        "\n",
        "function salvarDadosNoStorage(){\n",
        "\n",
        "    // todo navegador web possui essa capacidade\n",
        "    localStorage.setItem('tarefas', JSON.stringify(tarefas));\n",
        "}\n",
        "\n",
        "\n",
        "\n"
      ]
    }
  ]
}
